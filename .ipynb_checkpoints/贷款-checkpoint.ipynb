{
 "cells": [
  {
   "cell_type": "code",
   "execution_count": 1,
   "id": "4d9ec387",
   "metadata": {},
   "outputs": [],
   "source": [
    "import math \n",
    "def createDataSet():\n",
    "    dataSet = [[0, 0, 0, 0, 'no'],         #数据集\n",
    "            [0, 0, 0, 1, 'no'],\n",
    "            [0, 1, 0, 1, 'yes'],\n",
    "            [0, 1, 1, 0, 'yes'],\n",
    "            [0, 0, 0, 0, 'no'],\n",
    "            [1, 0, 0, 0, 'no'],\n",
    "            [1, 0, 0, 1, 'no'],\n",
    "            [1, 1, 1, 1, 'yes'],\n",
    "            [1, 0, 1, 2, 'yes'],\n",
    "            [1, 0, 1, 2, 'yes'],\n",
    "            [2, 0, 1, 2, 'yes'],\n",
    "            [2, 0, 1, 1, 'yes'],\n",
    "            [2, 1, 0, 1, 'yes'],\n",
    "            [2, 1, 0, 2, 'yes'],\n",
    "            [2, 0, 0, 0, 'no']]\n",
    "    labels = ['年龄', '有工作', '有自己的房子', '信贷情况']   #分类属性\n",
    "    return dataSet, labels              #返回数据集和分类属性"
   ]
  },
  {
   "cell_type": "code",
   "execution_count": 2,
   "id": "0158a6f4",
   "metadata": {},
   "outputs": [],
   "source": [
    "def h(lista):\n",
    "    sums=0\n",
    "    for i in lista:\n",
    "        x=i/sum(lista)\n",
    "        sums+=x*(math.log(x,2))\n",
    "    return -(sums)\n",
    "    "
   ]
  },
  {
   "cell_type": "code",
   "execution_count": 3,
   "id": "f97353af",
   "metadata": {},
   "outputs": [
    {
     "name": "stdout",
     "output_type": "stream",
     "text": [
      "[[0, 0, 0, 0, 'no'], [0, 0, 0, 1, 'no'], [0, 1, 0, 1, 'yes'], [0, 1, 1, 0, 'yes'], [0, 0, 0, 0, 'no'], [1, 0, 0, 0, 'no'], [1, 0, 0, 1, 'no'], [1, 1, 1, 1, 'yes'], [1, 0, 1, 2, 'yes'], [1, 0, 1, 2, 'yes'], [2, 0, 1, 2, 'yes'], [2, 0, 1, 1, 'yes'], [2, 1, 0, 1, 'yes'], [2, 1, 0, 2, 'yes'], [2, 0, 0, 0, 'no']]\n",
      "0.9709505944546686\n"
     ]
    }
   ],
   "source": [
    "def calcShannonEnt(dataSet):\n",
    "    numEntires = len(dataSet)\n",
    "    labelCounts = {}                        #保存每个标签(Label)出现次数的字典\n",
    "    for featVec in dataSet:                      \n",
    "        currentLabel = featVec[-1]                #提取标签(Label)信息\n",
    "        if currentLabel not in labelCounts.keys():    \n",
    "            labelCounts[currentLabel] = 0\n",
    "        labelCounts[currentLabel] += 1\n",
    "    shannonEnt = h(labelCounts.values())\n",
    "#     print(list(labelCounts.values()),'--',sum(list(labelCounts.values())))\n",
    "    return shannonEnt\n",
    "\n",
    "if __name__ == '__main__':\n",
    "    dataSet, features = createDataSet()\n",
    "    print(dataSet)\n",
    "    print(calcShannonEnt(dataSet))"
   ]
  },
  {
   "cell_type": "code",
   "execution_count": 4,
   "id": "60aed37d",
   "metadata": {},
   "outputs": [],
   "source": [
    "def splitDataSet(dataSet, axis, value):       \n",
    "    retDataSet = []             #创建返回的数据集列表\n",
    "    for featVec in dataSet:\n",
    "        if featVec[axis] == value:\n",
    "            reducedFeatVec = featVec[:axis]        #去掉axis特征\n",
    "            reducedFeatVec.extend(featVec[axis+1:]) #将符合条件的添加到返回数据集\n",
    "            retDataSet.append(reducedFeatVec)\n",
    "    return retDataSet     #返回划分后的数据集"
   ]
  },
  {
   "cell_type": "code",
   "execution_count": 5,
   "id": "4a3fd198",
   "metadata": {},
   "outputs": [
    {
     "data": {
      "text/plain": [
       "[[0, 0, 0, 'no'],\n",
       " [0, 0, 1, 'no'],\n",
       " [1, 0, 1, 'yes'],\n",
       " [1, 1, 0, 'yes'],\n",
       " [0, 0, 0, 'no']]"
      ]
     },
     "execution_count": 5,
     "metadata": {},
     "output_type": "execute_result"
    }
   ],
   "source": [
    "splitDataSet(dataSet,0,0)"
   ]
  },
  {
   "cell_type": "code",
   "execution_count": 9,
   "id": "48b89bb7",
   "metadata": {},
   "outputs": [
    {
     "name": "stdout",
     "output_type": "stream",
     "text": [
      "第0个特征的增益为0.083\n",
      "第1个特征的增益为0.324\n",
      "第2个特征的增益为0.42\n",
      "第3个特征的增益为0.363\n",
      "最优特征索引值:2\n"
     ]
    }
   ],
   "source": [
    "def chooseBestFeatureToSplit(dataSet):\n",
    "    numFeatures = len(dataSet[0]) - 1                    \t#特征数量\n",
    "    baseEntropy = calcShannonEnt(dataSet)               \t#计算数据集的香农熵\n",
    "    bestInfoGain = 0.0                                \t#信息增益\n",
    "    bestFeature = -1                                   #最优特征的索引值\n",
    "    vb=[]\n",
    "    for i in range(numFeatures):\n",
    "        featList = [example[i] for example in dataSet]\n",
    "        uniqueVals = set(featList)                            #经验条件熵\n",
    "        # 计算信息增益\n",
    "        aum=0\n",
    "        for j in uniqueVals:\n",
    "            x=splitDataSet(dataSet,i,j)\n",
    "            l=len(x)\n",
    "            aum+=calcShannonEnt(x)*(l/len(dataSet))\n",
    "        print(f\"第{i}个特征的增益为{round(baseEntropy-aum,3)}\")\n",
    "        vb.append(baseEntropy-aum)\n",
    "    bestInfoGain=vb.index(max(vb))\n",
    "    return bestInfoGain\n",
    " \n",
    "if __name__ == '__main__':\n",
    "    dataSet, features = createDataSet()\n",
    "    print(\"最优特征索引值:\" + str(chooseBestFeatureToSplit(dataSet)))"
   ]
  },
  {
   "cell_type": "code",
   "execution_count": 7,
   "id": "501ba0fa",
   "metadata": {
    "scrolled": true
   },
   "outputs": [
    {
     "name": "stdout",
     "output_type": "stream",
     "text": [
      "{'有自己的房子': {0: {'有工作': {0: 'no', 1: 'yes'}}, 1: 'yes'}}\n"
     ]
    }
   ],
   "source": [
    "def createTree(dataSet, labels, featLabels):\n",
    "    classList = set([example[-1] for example in dataSet])\n",
    "    \n",
    "    if len(labels) == 0 or len(classList) == 1:\n",
    "        return majorityClass(dataSet)\n",
    "\n",
    "    bestFeat = chooseBestFeatureToSplit(dataSet)\n",
    "    bestFeatLabel = labels[bestFeat]\n",
    "    del(labels[bestFeat])\n",
    "    featLabels.append(bestFeatLabel)\n",
    "    featValues = set([example[bestFeat] for example in dataSet])\n",
    "    disct = {}\n",
    "    for value in featValues:\n",
    "        subLabels = labels.copy()\n",
    "        disct[value] = createTree(splitDataSet(dataSet, bestFeat, value), subLabels, featLabels)\n",
    "        \n",
    "    return {bestFeatLabel: disct}\n",
    "\n",
    "def majorityClass(dataSet):\n",
    "    classCount = {}\n",
    "    for example in dataSet:\n",
    "        classCount[example[-1]] = classCount.get(example[-1], 0) + 1\n",
    "    return max(classCount, key=classCount.get)\n",
    "\n",
    "if __name__ == '__main__':\n",
    "    data = {}\n",
    "    dataSet, labels = createDataSet()\n",
    "    myTree = createTree(dataSet, labels, [])\n",
    "    \n",
    "    print(myTree)"
   ]
  },
  {
   "cell_type": "code",
   "execution_count": 8,
   "id": "ecbeea26",
   "metadata": {},
   "outputs": [
    {
     "name": "stdout",
     "output_type": "stream",
     "text": [
      "放贷\n"
     ]
    }
   ],
   "source": [
    "def classify(inputTree, featLabels, testVec):\n",
    "    firstStr = next(iter(inputTree))            #获取决策树节点\n",
    "    secondDict = inputTree[firstStr]           #下一个字典\n",
    "    featIndex = featLabels.index(firstStr)                                               \n",
    "    for key in secondDict.keys():\n",
    "        if testVec[featIndex] == key:\n",
    "            if type(secondDict[key]).__name__ == 'dict':\n",
    "                classLabel = classify(secondDict[key], featLabels, testVec)\n",
    "            else: classLabel = secondDict[key]\n",
    "    return classLabel\n",
    "\n",
    "if __name__ == '__main__':\n",
    "    dataSet, labels = createDataSet()\n",
    "    featLabels = []\n",
    "    myTree = createTree(dataSet, labels, featLabels)\n",
    "    testVec =[0,1] \n",
    "    result = classify(myTree, featLabels, testVec)\n",
    "    \n",
    "    if result == 'yes':\n",
    "        print('放贷')\n",
    "    if result == 'no':\n",
    "        print('不放贷')\n"
   ]
  },
  {
   "cell_type": "code",
   "execution_count": null,
   "id": "3cba0017",
   "metadata": {},
   "outputs": [],
   "source": []
  }
 ],
 "metadata": {
  "kernelspec": {
   "display_name": "py39",
   "language": "python",
   "name": "py39"
  },
  "language_info": {
   "codemirror_mode": {
    "name": "ipython",
    "version": 3
   },
   "file_extension": ".py",
   "mimetype": "text/x-python",
   "name": "python",
   "nbconvert_exporter": "python",
   "pygments_lexer": "ipython3",
   "version": "3.12.2"
  }
 },
 "nbformat": 4,
 "nbformat_minor": 5
}
