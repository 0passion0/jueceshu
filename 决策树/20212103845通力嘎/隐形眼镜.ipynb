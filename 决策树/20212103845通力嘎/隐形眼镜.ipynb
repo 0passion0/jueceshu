{
 "cells": [
  {
   "cell_type": "code",
   "execution_count": 1,
   "id": "64cd3075",
   "metadata": {},
   "outputs": [
    {
     "name": "stdout",
     "output_type": "stream",
     "text": [
      "           age prescript astigmatic tearRate\n",
      "0        young     myope         no  reduced\n",
      "1        young     myope         no   normal\n",
      "2        young     myope        yes  reduced\n",
      "3        young     myope        yes   normal\n",
      "4        young     hyper         no  reduced\n",
      "5        young     hyper         no   normal\n",
      "6        young     hyper        yes  reduced\n",
      "7        young     hyper        yes   normal\n",
      "8          pre     myope         no  reduced\n",
      "9          pre     myope         no   normal\n",
      "10         pre     myope        yes  reduced\n",
      "11         pre     myope        yes   normal\n",
      "12         pre     hyper         no  reduced\n",
      "13         pre     hyper         no   normal\n",
      "14         pre     hyper        yes  reduced\n",
      "15         pre     hyper        yes   normal\n",
      "16  presbyopic     myope         no  reduced\n",
      "17  presbyopic     myope         no   normal\n",
      "18  presbyopic     myope        yes  reduced\n",
      "19  presbyopic     myope        yes   normal\n",
      "20  presbyopic     hyper         no  reduced\n",
      "21  presbyopic     hyper         no   normal\n",
      "22  presbyopic     hyper        yes  reduced\n",
      "23  presbyopic     hyper        yes   normal\n",
      "    age  prescript  astigmatic  tearRate\n",
      "0     2          1           0         1\n",
      "1     2          1           0         0\n",
      "2     2          1           1         1\n",
      "3     2          1           1         0\n",
      "4     2          0           0         1\n",
      "5     2          0           0         0\n",
      "6     2          0           1         1\n",
      "7     2          0           1         0\n",
      "8     0          1           0         1\n",
      "9     0          1           0         0\n",
      "10    0          1           1         1\n",
      "11    0          1           1         0\n",
      "12    0          0           0         1\n",
      "13    0          0           0         0\n",
      "14    0          0           1         1\n",
      "15    0          0           1         0\n",
      "16    1          1           0         1\n",
      "17    1          1           0         0\n",
      "18    1          1           1         1\n",
      "19    1          1           1         0\n",
      "20    1          0           0         1\n",
      "21    1          0           0         0\n",
      "22    1          0           1         1\n",
      "23    1          0           1         0\n"
     ]
    }
   ],
   "source": [
    "# -*- coding: UTF-8 -*-\n",
    "from sklearn.preprocessing import LabelEncoder, OneHotEncoder\n",
    "from six import StringIO\n",
    "from sklearn import tree\n",
    "import pandas as pd\n",
    "import numpy as np\n",
    "import pydotplus\n",
    "if __name__ == '__main__':\n",
    "    with open('decision_tree_glass/lenses.txt', 'r') as fr:\n",
    "        lenses = [inst.strip().split('\\t') for inst in fr.readlines()]\n",
    "    lenses_target = []           #提取每组数据的类别，保存在列表里\n",
    "    for each in lenses:\n",
    "        lenses_target.append(each[-1])\n",
    "    lensesLabels = ['age', 'prescript', 'astigmatic', 'tearRate']            #特征标签\n",
    "    lenses_list = []              \t#保存lenses数据的临时列表\n",
    "    lenses_dict = {}               \t#保存lenses数据的字典，用于生成pandas\n",
    "    for each_label in lensesLabels:   \t#提取信息，生成字典\n",
    "        for each in lenses:\n",
    "            lenses_list.append(each[lensesLabels.index(each_label)])\n",
    "        lenses_dict[each_label] = lenses_list\n",
    "        lenses_list = []\n",
    "    #print(lenses_dict)\n",
    "    lenses_pd = pd.DataFrame(lenses_dict)\n",
    "    print(lenses_pd)\n",
    "    le = LabelEncoder()               #创建LabelEncoder()对象，用于序列化            \n",
    "    for col in lenses_pd.columns:   #为每一列序列化\n",
    "        lenses_pd[col] = le.fit_transform(lenses_pd[col])\n",
    "    print(lenses_pd)"
   ]
  },
  {
   "cell_type": "code",
   "execution_count": 2,
   "id": "c54dfa0f",
   "metadata": {},
   "outputs": [
    {
     "name": "stdout",
     "output_type": "stream",
     "text": [
      "['hard']\n"
     ]
    }
   ],
   "source": [
    "clf = tree.DecisionTreeClassifier(max_depth = 4)         #创建DecisionTreeClassifier()类\n",
    "clf = clf.fit(lenses_pd.values.tolist(), lenses_target)   #使用数据，构建决策树\n",
    "dot_data = StringIO()\n",
    "\n",
    "tree.export_graphviz(clf, out_file = dot_data,        #绘制决策树\n",
    "                       feature_names = lenses_pd.keys(),\n",
    "                        class_names = clf.classes_,\n",
    "                        filled=True, rounded=True,\n",
    "                        special_characters=True)\n",
    "graph = pydotplus.graph_from_dot_data(dot_data.getvalue())  \n",
    "graph.write_pdf(\"myTree.pdf\")\n",
    "print(clf.predict([[1,1,1,0]]))    "
   ]
  },
  {
   "cell_type": "code",
   "execution_count": null,
   "id": "2f9a72ba",
   "metadata": {},
   "outputs": [],
   "source": []
  },
  {
   "cell_type": "code",
   "execution_count": null,
   "id": "a6510a25",
   "metadata": {},
   "outputs": [],
   "source": []
  }
 ],
 "metadata": {
  "kernelspec": {
   "display_name": "py39",
   "language": "python",
   "name": "py39"
  },
  "language_info": {
   "codemirror_mode": {
    "name": "ipython",
    "version": 3
   },
   "file_extension": ".py",
   "mimetype": "text/x-python",
   "name": "python",
   "nbconvert_exporter": "python",
   "pygments_lexer": "ipython3",
   "version": "3.12.2"
  }
 },
 "nbformat": 4,
 "nbformat_minor": 5
}
